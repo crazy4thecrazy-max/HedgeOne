{
 "cells": [
  {
   "cell_type": "code",
   "execution_count": null,
   "id": "1fba55b0",
   "metadata": {},
   "outputs": [],
   "source": [
    "from fyers_apiv3 import fyersModel\n",
    "from config import CLIENT_ID, AUTH_CODE, REDIRECT_URI, RESPONSE_TYPE, STATE, SECRET_KEY, GRANT_TYPE, get_logger\n",
    "\n",
    "# --- Exchange auth_code for access_token ---\n",
    "session = fyersModel.SessionModel(\n",
    "    client_id=CLIENT_ID,\n",
    "    secret_key=SECRET_KEY,\n",
    "    redirect_uri=REDIRECT_URI,\n",
    "    response_type=RESPONSE_TYPE,\n",
    "    state=STATE,\n",
    "    grant_type=GRANT_TYPE\n",
    ")\n",
    "\n",
    "session.set_token(AUTH_CODE)\n",
    "response = session.generate_token()\n",
    "\n",
    "access_token = response.get(\"access_token\")"
   ]
  },
  {
   "cell_type": "code",
   "execution_count": 8,
   "id": "0a724edb",
   "metadata": {},
   "outputs": [
    {
     "data": {
      "text/plain": [
       "True"
      ]
     },
     "execution_count": 8,
     "metadata": {},
     "output_type": "execute_result"
    }
   ],
   "source": [
    "import langchain\n",
    "from langchain_groq import ChatGroq\n",
    "from dotenv import load_dotenv\n",
    "load_dotenv()"
   ]
  },
  {
   "cell_type": "code",
   "execution_count": 28,
   "id": "dbc6bad7",
   "metadata": {},
   "outputs": [
    {
     "name": "stdout",
     "output_type": "stream",
     "text": [
      "Current price of SBIN: ₹889.15\n"
     ]
    }
   ],
   "source": [
    "fyers = fyersModel.FyersModel(client_id=CLIENT_ID, token=access_token, is_async=False)\n",
    "\n",
    "data = {\"symbols\": \"NSE:SBIN-EQ\"}\n",
    "response = fyers.quotes(data)\n",
    "# print(response)\n",
    "\n",
    "if \"d\" in response and len(response[\"d\"]) > 0:\n",
    "    ltp = response[\"d\"][0][\"v\"][\"lp\"]  # 'lp' means Last Price\n",
    "    print(f\"Current price of SBIN: ₹{ltp}\")\n",
    "else:\n",
    "    print(\"Error fetching price:\", response)\n"
   ]
  },
  {
   "cell_type": "code",
   "execution_count": null,
   "id": "921024c6",
   "metadata": {},
   "outputs": [],
   "source": []
  }
 ],
 "metadata": {
  "kernelspec": {
   "display_name": "Python 3",
   "language": "python",
   "name": "python3"
  },
  "language_info": {
   "codemirror_mode": {
    "name": "ipython",
    "version": 3
   },
   "file_extension": ".py",
   "mimetype": "text/x-python",
   "name": "python",
   "nbconvert_exporter": "python",
   "pygments_lexer": "ipython3",
   "version": "3.10.0"
  }
 },
 "nbformat": 4,
 "nbformat_minor": 5
}
